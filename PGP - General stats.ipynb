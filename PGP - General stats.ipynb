{
 "cells": [
  {
   "cell_type": "code",
   "execution_count": 1,
   "metadata": {},
   "outputs": [
    {
     "name": "stdout",
     "output_type": "stream",
     "text": [
      "Populating the interactive namespace from numpy and matplotlib\n",
      "1.4.4\n"
     ]
    }
   ],
   "source": [
    "%pylab inline\n",
    "import powerlaw\n",
    "print(powerlaw.__version__)\n",
    "\n",
    "import pylab\n",
    "pylab.rcParams['xtick.major.pad']='8'\n",
    "pylab.rcParams['ytick.major.pad']='8'\n",
    "#pylab.rcParams['font.sans-serif']='Arial'\n",
    "\n",
    "from matplotlib import rc\n",
    "rc('font', family='sans-serif')\n",
    "rc('font', size=10.0)\n",
    "rc('text', usetex=False)\n",
    "\n",
    "from matplotlib.font_manager import FontProperties\n",
    "panel_label_font = FontProperties().copy()\n",
    "panel_label_font.set_weight(\"bold\")\n",
    "panel_label_font.set_size(12.0)\n",
    "panel_label_font.set_family(\"sans-serif\")"
   ]
  },
  {
   "cell_type": "code",
   "execution_count": 2,
   "metadata": {},
   "outputs": [],
   "source": [
    "import networkx as nx\n",
    "from collections import Counter\n",
    "from scipy import stats\n",
    "import pandas as pd\n",
    "import matplotlib.lines as mlines\n",
    "\n",
    "A = np.loadtxt('Data/arenas-pgp/out.arenas-pgp', dtype=int, usecols=range(2), comments=\"%\")\n",
    "G=nx.Graph()\n",
    "for n in A:\n",
    "    G.add_edge(n[0], n[1])"
   ]
  },
  {
   "cell_type": "code",
   "execution_count": 3,
   "metadata": {},
   "outputs": [],
   "source": [
    "def average_degree(G):\n",
    "    return 2 * G.number_of_edges() / G.number_of_nodes()"
   ]
  },
  {
   "cell_type": "code",
   "execution_count": 5,
   "metadata": {},
   "outputs": [],
   "source": [
    "def moment(G,n):\n",
    "    degree_per_node = nx.degree(G)\n",
    "\n",
    "    val = 0\n",
    "    for deg in degree_per_node:\n",
    "         val += deg[1] ** n\n",
    "\n",
    "    return val / float(nx.number_of_nodes(G))"
   ]
  },
  {
   "cell_type": "code",
   "execution_count": 6,
   "metadata": {},
   "outputs": [],
   "source": [
    "#write in Gephi format\n",
    "nx.write_gml(G, \"output/pgp.gml\", stringizer=str)"
   ]
  },
  {
   "cell_type": "code",
   "execution_count": 15,
   "metadata": {},
   "outputs": [
    {
     "name": "stdout",
     "output_type": "stream",
     "text": [
      "Number of Nodes: 10680\n",
      "Number of Edges: 24316\n",
      "avg degree: 4.5535580524344565\n",
      "max degree: 205\n",
      "min degree: 1\n",
      "1st moment: 4.5535580524344565\n",
      "2nd moment: 85.97621722846442\n",
      "3rd moment: 4462.983333333334\n"
     ]
    }
   ],
   "source": [
    "avg_deg = average_degree(G)\n",
    "number_of_nodes = nx.number_of_nodes(G)\n",
    "number_of_edges= nx.number_of_edges(G)\n",
    "data = [d for n, d in G.degree()]\n",
    "maxDegree = np.max(data)\n",
    "minDegree = np.min(data)\n",
    "print(\"Number of Nodes: \" + str(number_of_nodes))\n",
    "print(\"Number of Edges: \" + str(number_of_edges))\n",
    "print(\"avg degree: \" + str(avg_deg))\n",
    "print(\"max degree: \" + str(maxDegree))\n",
    "print(\"min degree: \" + str(minDegree))\n",
    "print(\"1st moment: \" + str(moment(G, 1)))\n",
    "print(\"2nd moment: \" + str(moment(G, 2)))\n",
    "print(\"3rd moment: \" + str(moment(G, 3)))"
   ]
  },
  {
   "cell_type": "code",
   "execution_count": 10,
   "metadata": {},
   "outputs": [],
   "source": [
    "import collections\n",
    "degree_sequence = sorted([d for n, d in G.degree()], reverse=True)  # degree sequence\n",
    "degreeCount = collections.Counter(degree_sequence)\n",
    "deg, cnt = zip(*degreeCount.items())"
   ]
  },
  {
   "cell_type": "code",
   "execution_count": 13,
   "metadata": {},
   "outputs": [
    {
     "data": {
      "text/plain": [
       "Text(0.5, 0, 'Degree')"
      ]
     },
     "execution_count": 13,
     "metadata": {},
     "output_type": "execute_result"
    },
    {
     "data": {
      "image/png": "[encoded data removed]",
      "text/plain": [
       "<Figure size 432x288 with 1 Axes>"
      ]
     },
     "metadata": {
      "needs_background": "light"
     },
     "output_type": "display_data"
    }
   ],
   "source": [
    "fig, ax = plt.subplots()\n",
    "plt.bar(deg, cnt, width=0.80, color='b')\n",
    "plt.title(\"Degree Histogram\")\n",
    "plt.ylabel(\"Node Count\")\n",
    "plt.xlabel(\"Degree\")"
   ]
  },
  {
   "cell_type": "code",
   "execution_count": 14,
   "metadata": {},
   "outputs": [
    {
     "data": {
      "text/plain": [
       "Text(0.5, 0, 'rank')"
      ]
     },
     "execution_count": 14,
     "metadata": {},
     "output_type": "execute_result"
    },
    {
     "data": {
      "image/png": "[encoded data removed]",
      "text/plain": [
       "<Figure size 432x288 with 1 Axes>"
      ]
     },
     "metadata": {
      "needs_background": "light"
     },
     "output_type": "display_data"
    }
   ],
   "source": [
    "plt.loglog(degree_sequence,'b-',marker='o')\n",
    "plt.title(\"Degree rank plot (log scale)\")\n",
    "plt.ylabel(\"degree\")\n",
    "plt.xlabel(\"rank\")"
   ]
  }
 ],
 "metadata": {
  "kernelspec": {
   "display_name": "Python 3",
   "language": "python",
   "name": "python3"
  },
  "language_info": {
   "codemirror_mode": {
    "name": "ipython",
    "version": 3
   },
   "file_extension": ".py",
   "mimetype": "text/x-python",
   "name": "python",
   "nbconvert_exporter": "python",
   "pygments_lexer": "ipython3",
   "version": "3.7.0"
  }
 },
 "nbformat": 4,
 "nbformat_minor": 2
}
