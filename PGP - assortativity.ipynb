{
 "cells": [
  {
   "cell_type": "markdown",
   "metadata": {},
   "source": [
    "# Assortativity"
   ]
  },
  {
   "cell_type": "code",
   "execution_count": 1,
   "metadata": {},
   "outputs": [
    {
     "name": "stdout",
     "output_type": "stream",
     "text": [
      "Populating the interactive namespace from numpy and matplotlib\n"
     ]
    }
   ],
   "source": [
    "%pylab inline\n",
    "\n",
    "import networkx as nx\n",
    "from collections import Counter\n",
    "from scipy import stats\n",
    "\n",
    "A = np.loadtxt('Data/arenas-pgp/out.arenas-pgp', dtype=int, usecols=range(2), comments=\"%\")\n",
    "G=nx.Graph()\n",
    "for n in A:\n",
    "    G.add_edge(n[0], n[1])"
   ]
  },
  {
   "cell_type": "markdown",
   "metadata": {},
   "source": [
    "Compute degree assortativity of graph.\n",
    "Assortativity measures the similarity of connections in the graph with respect to the node degree."
   ]
  },
  {
   "cell_type": "code",
   "execution_count": 6,
   "metadata": {},
   "outputs": [
    {
     "name": "stdout",
     "output_type": "stream",
     "text": [
      "0.238\n"
     ]
    }
   ],
   "source": [
    "r = nx.degree_pearson_correlation_coefficient(G)\n",
    "print(\"%3.3f\"%r) #Assortativity of graph by degree."
   ]
  },
  {
   "cell_type": "markdown",
   "metadata": {},
   "source": [
    "Es gilt\n",
    "- Assortatives Netzwerk r > 0\n",
    "- Neutrales Netzwerk r = 0\n",
    "- Disassortatives Netzwerk r < 0\n",
    "\n",
    "für -1 < r < 1.\n",
    "\n",
    "Da der Koeffizient r positiv ist, handelt es sich um ein Assortatives Netzwerk. D.h. Hubs tendieren dazu sich mit anderen Hubs zu verknüpfen. Je höher der Grad eines Knotens k ist, desto höher ist auch der Grad der umliegenden Knoten."
   ]
  },
  {
   "cell_type": "code",
   "execution_count": null,
   "metadata": {},
   "outputs": [],
   "source": []
  }
 ],
 "metadata": {
  "kernelspec": {
   "display_name": "Python 3",
   "language": "python",
   "name": "python3"
  },
  "language_info": {
   "codemirror_mode": {
    "name": "ipython",
    "version": 3
   },
   "file_extension": ".py",
   "mimetype": "text/x-python",
   "name": "python",
   "nbconvert_exporter": "python",
   "pygments_lexer": "ipython3",
   "version": "3.7.0"
  }
 },
 "nbformat": 4,
 "nbformat_minor": 2
}
