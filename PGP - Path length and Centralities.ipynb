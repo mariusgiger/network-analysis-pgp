{
 "cells": [
  {
   "cell_type": "markdown",
   "metadata": {},
   "source": [
    "# Path length and centralities"
   ]
  },
  {
   "cell_type": "code",
   "execution_count": 3,
   "metadata": {},
   "outputs": [
    {
     "name": "stdout",
     "output_type": "stream",
     "text": [
      "Populating the interactive namespace from numpy and matplotlib\n"
     ]
    }
   ],
   "source": [
    "%pylab inline\n",
    "\n",
    "import networkx as nx\n",
    "from collections import Counter\n",
    "from scipy import stats\n",
    "\n",
    "A = np.loadtxt('Data/arenas-pgp/out.arenas-pgp', dtype=int, usecols=range(2), comments=\"%\")\n",
    "G=nx.Graph()\n",
    "for n in A:\n",
    "    G.add_edge(n[0], n[1])"
   ]
  },
  {
   "cell_type": "code",
   "execution_count": 5,
   "metadata": {},
   "outputs": [
    {
     "name": "stdout",
     "output_type": "stream",
     "text": [
      "0.0004264030389019999\n"
     ]
    }
   ],
   "source": [
    "#Density\n",
    "print(nx.density(G))"
   ]
  },
  {
   "cell_type": "code",
   "execution_count": 6,
   "metadata": {},
   "outputs": [
    {
     "data": {
      "text/plain": [
       "7.4855400514784"
      ]
     },
     "execution_count": 6,
     "metadata": {},
     "output_type": "execute_result"
    }
   ],
   "source": [
    "nx.average_shortest_path_length(G)"
   ]
  },
  {
   "cell_type": "markdown",
   "metadata": {},
   "source": [
    "Compute all shortest paths and plot shortes path lengths"
   ]
  },
  {
   "cell_type": "code",
   "execution_count": 15,
   "metadata": {},
   "outputs": [
    {
     "name": "stdout",
     "output_type": "stream",
     "text": [
      "7.4855400514784\n"
     ]
    },
    {
     "name": "stderr",
     "output_type": "stream",
     "text": [
      "IOPub data rate exceeded.\n",
      "The notebook server will temporarily stop sending output\n",
      "to the client in order to avoid crashing it.\n",
      "To change this limit, set the config variable\n",
      "`--NotebookApp.iopub_data_rate_limit`.\n",
      "\n",
      "Current values:\n",
      "NotebookApp.iopub_data_rate_limit=1000000.0 (bytes/sec)\n",
      "NotebookApp.rate_limit_window=3.0 (secs)\n",
      "\n"
     ]
    },
    {
     "data": {
      "text/plain": [
       "Text(0.5, 0, 'Path length')"
      ]
     },
     "execution_count": 15,
     "metadata": {},
     "output_type": "execute_result"
    },
    {
     "data": {
      "image/png": "[encoded data removed]",
      "text/plain": [
       "<Figure size 432x288 with 1 Axes>"
      ]
     },
     "metadata": {
      "needs_background": "light"
     },
     "output_type": "display_data"
    }
   ],
   "source": [
    "print(nx.average_shortest_path_length(G))\n",
    "avg = 0\n",
    "lengths = []\n",
    "for node in G:\n",
    "    path_length=nx.single_source_shortest_path_length(G, node)\n",
    "    l = list(path_length.values())\n",
    "    for length in l:\n",
    "            lengths.append(length)\n",
    "    avg += sum(l)\n",
    "\n",
    "n=len(K)\n",
    "print(avg/(n*(n-1)))\n",
    "print(lengths)\n",
    "\n",
    "plt.figure()\n",
    "plt.hist(lengths)\n",
    "plt.ylabel('Number of Paths')\n",
    "plt.xlabel('Path length')"
   ]
  },
  {
   "cell_type": "markdown",
   "metadata": {},
   "source": [
    "Betweenness centrality is a node importance metric that uses information about the shortest paths in a network. It is defined as the fraction of all possible shortest paths between any pair of nodes that pass through the node.\n",
    "The degree of a node is the number of neighbors that it has. The degree centrality is the number of neighbors divided by all possible neighbors that it could have. Depending on whether self-loops are allowed, the set of possible neighbors a node could have could also include the node itself."
   ]
  },
  {
   "cell_type": "code",
   "execution_count": 4,
   "metadata": {},
   "outputs": [],
   "source": [
    "#Betweenness centrality measures the number of times a node lies on the shortest path between other nodes.\n",
    "# This measure shows which nodes act as ‘bridges’ between nodes in a network. It does this by identifying all the shortest paths and then counting how many times each node falls on one.\n",
    "betweenness_centrality = nx.betweenness_centrality(G)"
   ]
  },
  {
   "cell_type": "code",
   "execution_count": 10,
   "metadata": {},
   "outputs": [
    {
     "name": "stdout",
     "output_type": "stream",
     "text": [
      "0.13118948721526424\n"
     ]
    },
    {
     "data": {
      "text/plain": [
       "<matplotlib.lines.Line2D at 0x11c272898>"
      ]
     },
     "execution_count": 10,
     "metadata": {},
     "output_type": "execute_result"
    },
    {
     "data": {
      "image/png": "[encoded data removed]",
      "text/plain": [
       "<Figure size 432x288 with 1 Axes>"
      ]
     },
     "metadata": {
      "needs_background": "light"
     },
     "output_type": "display_data"
    }
   ],
   "source": [
    "import matplotlib.lines as mlines\n",
    "\n",
    "centralities = {} #node, degree, betweenness centrality\n",
    "for deg in G.degree():\n",
    "    bet_cen = betweenness_centrality[deg[0]]\n",
    "    centralities[deg[0]] = (deg[1], bet_cen)\n",
    "    \n",
    "degs = [deg for deg, cen in centralities.values()]\n",
    "cents = [cen for deg, cen in centralities.values()]\n",
    "print(np.max(cents))\n",
    "   \n",
    "fig, ax = plt.subplots()\n",
    "plt.xlabel('degree')\n",
    "plt.ylabel('betweenness centrality')\n",
    "ax.scatter(degs, cents)\n",
    "l = mlines.Line2D([0,205], [0.04,0.04], color='red')\n",
    "ax.add_line(l)"
   ]
  },
  {
   "cell_type": "code",
   "execution_count": 11,
   "metadata": {},
   "outputs": [],
   "source": [
    "#Degree centrality assigns an importance score based purely on the number of links held by each node.\n",
    "degree_centrality = nx.degree_centrality(G)"
   ]
  },
  {
   "cell_type": "code",
   "execution_count": 12,
   "metadata": {},
   "outputs": [],
   "source": [
    "# This measure scores each node based on their ‘closeness’ to all other nodes within the network.\n",
    "closeness_centrality = nx.closeness_centrality(G)"
   ]
  },
  {
   "cell_type": "code",
   "execution_count": 23,
   "metadata": {},
   "outputs": [],
   "source": [
    "#Mean shortest distance\n",
    "def msd(shortestpaths):\n",
    "    msds = {}\n",
    "    for node, sds in shortestpaths:\n",
    "        msds[node] = np.mean(list(sds.values()))\n",
    "\n",
    "    return msds\n",
    "\n",
    "paths = nx.shortest_path_length(G) #dict[source][target] = Length\n",
    "msds = msd(paths)"
   ]
  },
  {
   "cell_type": "code",
   "execution_count": 22,
   "metadata": {},
   "outputs": [
    {
     "data": {
      "text/plain": [
       "7.484839158215152"
      ]
     },
     "execution_count": 22,
     "metadata": {},
     "output_type": "execute_result"
    }
   ],
   "source": [
    "np.mean(list(msds.values()))"
   ]
  },
  {
   "cell_type": "code",
   "execution_count": 14,
   "metadata": {},
   "outputs": [
    {
     "data": {
      "text/plain": [
       "Text(0.5, 1.0, 'MSD Distribution: avg = 7.48,  std = 1.47')"
      ]
     },
     "execution_count": 14,
     "metadata": {},
     "output_type": "execute_result"
    },
    {
     "data": {
      "image/png": "[encoded data removed]",
      "text/plain": [
       "<Figure size 432x288 with 1 Axes>"
      ]
     },
     "metadata": {
      "needs_background": "light"
     },
     "output_type": "display_data"
    }
   ],
   "source": [
    "from scipy.stats import norm\n",
    "from scipy import stats\n",
    "\n",
    "msd_values = list(msds.values())\n",
    "mean = np.mean(msd_values)\n",
    "std = np.std(msd_values)\n",
    "\n",
    "plt.figure()\n",
    "plt.hist(msd_values, bins=20, alpha=0.6)\n",
    "plt.ylabel('Number of nodes')\n",
    "plt.xlabel('Mean shortest distance')\n",
    "\n",
    "title = \"MSD Distribution: avg = %.2f,  std = %.2f\" % (mean, std)\n",
    "plt.title(title)"
   ]
  },
  {
   "cell_type": "code",
   "execution_count": 15,
   "metadata": {},
   "outputs": [
    {
     "data": {
      "text/plain": [
       "<matplotlib.collections.PathCollection at 0x11eb13eb8>"
      ]
     },
     "execution_count": 15,
     "metadata": {},
     "output_type": "execute_result"
    },
    {
     "data": {
      "image/png": "[encoded data removed]",
      "text/plain": [
       "<Figure size 432x288 with 1 Axes>"
      ]
     },
     "metadata": {
      "needs_background": "light"
     },
     "output_type": "display_data"
    }
   ],
   "source": [
    "msd_centralties = {} #node, betweenness centrality\n",
    "for node, ms in msds.items():\n",
    "    bet_cen = betweenness_centrality[node]\n",
    "    msd_centralties[node] = (ms, bet_cen)\n",
    "    \n",
    "msd_values = [ms for ms, cen in msd_centralties.values()]\n",
    "cents = [cen for ms, cen in msd_centralties.values()]\n",
    "\n",
    "fig, ax = plt.subplots()\n",
    "plt.xlabel('betweenness centrality')\n",
    "plt.ylabel('mean shortest distance')\n",
    "ax.scatter(cents, msd_values)"
   ]
  },
  {
   "cell_type": "code",
   "execution_count": 16,
   "metadata": {},
   "outputs": [
    {
     "data": {
      "text/plain": [
       "<matplotlib.collections.PathCollection at 0x11ec87ac8>"
      ]
     },
     "execution_count": 16,
     "metadata": {},
     "output_type": "execute_result"
    },
    {
     "data": {
      "image/png": "[encoded data removed]",
      "text/plain": [
       "<Figure size 432x288 with 1 Axes>"
      ]
     },
     "metadata": {
      "needs_background": "light"
     },
     "output_type": "display_data"
    }
   ],
   "source": [
    "msd_deg_centralties = {} #node, betweenness centrality\n",
    "for node, ms in msds.items():\n",
    "    deg_cen = degree_centrality[node]\n",
    "    msd_deg_centralties[node] = (ms, deg_cen)\n",
    "    \n",
    "msd_values = [ms for ms, cen in msd_deg_centralties.values()]\n",
    "cents = [cen for ms, cen in msd_deg_centralties.values()]\n",
    "\n",
    "fig, ax = plt.subplots()\n",
    "plt.xlabel('degree centrality')\n",
    "plt.ylabel('mean shortest distance')\n",
    "ax.scatter(cents, msd_values)"
   ]
  },
  {
   "cell_type": "code",
   "execution_count": 17,
   "metadata": {},
   "outputs": [
    {
     "data": {
      "text/plain": [
       "<matplotlib.collections.PathCollection at 0x11eea5a90>"
      ]
     },
     "execution_count": 17,
     "metadata": {},
     "output_type": "execute_result"
    },
    {
     "data": {
      "image/png": "[encoded data removed]",
      "text/plain": [
       "<Figure size 432x288 with 1 Axes>"
      ]
     },
     "metadata": {
      "needs_background": "light"
     },
     "output_type": "display_data"
    }
   ],
   "source": [
    "bet_deg_centralties = {} #node, betweenness centrality\n",
    "for node, bet_cen in betweenness_centrality.items():\n",
    "    deg_cen = degree_centrality[node]\n",
    "    bet_deg_centralties[node] = (bet_cen, deg_cen)\n",
    "    \n",
    "bet_cen_values = [bet_cen for bet_cen, deg_cen in bet_deg_centralties.values()]\n",
    "deg_cen_values = [deg_cen for bet_cen, deg_cen in bet_deg_centralties.values()]\n",
    "\n",
    "fig, ax = plt.subplots()\n",
    "plt.xlabel('betwenness centrality')\n",
    "plt.ylabel('degree centrality')\n",
    "ax.scatter(bet_cen_values, deg_cen_values)"
   ]
  },
  {
   "cell_type": "code",
   "execution_count": 18,
   "metadata": {},
   "outputs": [],
   "source": [
    "inverted_msds = {}\n",
    "for node, msd in msds.items():\n",
    "    inverted_msds[node] = 1/msd\n",
    "\n",
    "nx.set_node_attributes(G, betweenness_centrality, 'betweenness')\n",
    "nx.set_node_attributes(G, msds, 'msd')\n",
    "nx.set_node_attributes(G, inverted_msds, 'invertedmsd')\n",
    "nx.write_gml(G, \"output/pgp_msd.gml\", stringizer=str)"
   ]
  },
  {
   "cell_type": "code",
   "execution_count": 19,
   "metadata": {},
   "outputs": [
    {
     "data": {
      "text/plain": [
       "<matplotlib.collections.PathCollection at 0x11c2eb6d8>"
      ]
     },
     "execution_count": 19,
     "metadata": {},
     "output_type": "execute_result"
    },
    {
     "data": {
      "image/png": "[encoded data removed]",
      "text/plain": [
       "<Figure size 432x288 with 1 Axes>"
      ]
     },
     "metadata": {
      "needs_background": "light"
     },
     "output_type": "display_data"
    }
   ],
   "source": [
    "centralities = {} #node, degree, betweenness centrality\n",
    "for deg in G.degree():\n",
    "    msd = msds[deg[0]]\n",
    "    centralities[deg[0]] = (deg[1], msd)\n",
    "    \n",
    "degs = [deg for deg, msd in centralities.values()]\n",
    "msd_vals = [msd for deg, msd in centralities.values()]\n",
    "   \n",
    "fig, ax = plt.subplots()\n",
    "plt.xlabel('degree')\n",
    "plt.ylabel('mean shortest distance')\n",
    "ax.scatter(degs, msd_vals)"
   ]
  },
  {
   "cell_type": "code",
   "execution_count": 26,
   "metadata": {},
   "outputs": [],
   "source": [
    "#Median shortest distance\n",
    "def mediansd(shortestpaths):\n",
    "    msds = {}\n",
    "    for node, sds in shortestpaths:\n",
    "        msds[node] = np.median(list(sds.values()))\n",
    "\n",
    "    return msds\n",
    "\n",
    "paths = nx.shortest_path_length(G) #dict[source][target] = Length\n",
    "mediansds = mediansd(paths)"
   ]
  },
  {
   "cell_type": "code",
   "execution_count": 27,
   "metadata": {},
   "outputs": [
    {
     "data": {
      "text/plain": [
       "Text(0.5, 1.0, 'MSD Distribution: avg = 7.33,  std = 1.54')"
      ]
     },
     "execution_count": 27,
     "metadata": {},
     "output_type": "execute_result"
    },
    {
     "data": {
      "image/png": "[encoded data removed]",
      "text/plain": [
       "<Figure size 432x288 with 1 Axes>"
      ]
     },
     "metadata": {
      "needs_background": "light"
     },
     "output_type": "display_data"
    }
   ],
   "source": [
    "mediansd_values = list(mediansds.values())\n",
    "mean = np.mean(mediansd_values)\n",
    "std = np.std(mediansd_values)\n",
    "\n",
    "plt.figure()\n",
    "plt.hist(mediansd_values, bins=20, alpha=0.6)\n",
    "plt.ylabel('Number of nodes')\n",
    "plt.xlabel('Median shortest distance')\n",
    "\n",
    "title = \"MSD Distribution: avg = %.2f,  std = %.2f\" % (mean, std)\n",
    "plt.title(title)"
   ]
  },
  {
   "cell_type": "markdown",
   "metadata": {},
   "source": [
    "Links:\n",
    "- https://cambridge-intelligence.com/keylines-faqs-social-network-analysis/"
   ]
  }
 ],
 "metadata": {
  "kernelspec": {
   "display_name": "Python 3",
   "language": "python",
   "name": "python3"
  },
  "language_info": {
   "codemirror_mode": {
    "name": "ipython",
    "version": 3
   },
   "file_extension": ".py",
   "mimetype": "text/x-python",
   "name": "python",
   "nbconvert_exporter": "python",
   "pygments_lexer": "ipython3",
   "version": "3.7.0"
  }
 },
 "nbformat": 4,
 "nbformat_minor": 2
}
